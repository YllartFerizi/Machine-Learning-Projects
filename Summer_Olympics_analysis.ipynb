{
 "cells": [
  {
   "cell_type": "code",
   "execution_count": 1,
   "id": "0b5c4a78-1e00-4cf7-a4e6-8f7f870bf937",
   "metadata": {},
   "outputs": [],
   "source": [
    "import pandas as pd\n",
    "import numpy as np\n",
    "import matplotlib.pyplot as plt\n",
    "import seaborn as sns"
   ]
  },
  {
   "cell_type": "markdown",
   "id": "3e2b8499-ea53-4118-b41c-ed662c957455",
   "metadata": {},
   "source": [
    "# 1. Basic Data Exploration"
   ]
  },
  {
   "cell_type": "code",
   "execution_count": 2,
   "id": "f145092e-f99d-44fb-a94e-dbe7299f806d",
   "metadata": {},
   "outputs": [],
   "source": [
    "df = pd.read_csv('data/olympics_dataset.csv')"
   ]
  },
  {
   "cell_type": "code",
   "execution_count": 3,
   "id": "e5e8c3be-e09f-487f-a01e-1c6d0cb16d1d",
   "metadata": {},
   "outputs": [
    {
     "data": {
      "text/html": [
       "<div>\n",
       "<style scoped>\n",
       "    .dataframe tbody tr th:only-of-type {\n",
       "        vertical-align: middle;\n",
       "    }\n",
       "\n",
       "    .dataframe tbody tr th {\n",
       "        vertical-align: top;\n",
       "    }\n",
       "\n",
       "    .dataframe thead th {\n",
       "        text-align: right;\n",
       "    }\n",
       "</style>\n",
       "<table border=\"1\" class=\"dataframe\">\n",
       "  <thead>\n",
       "    <tr style=\"text-align: right;\">\n",
       "      <th></th>\n",
       "      <th>player_id</th>\n",
       "      <th>Name</th>\n",
       "      <th>Sex</th>\n",
       "      <th>Team</th>\n",
       "      <th>NOC</th>\n",
       "      <th>Year</th>\n",
       "      <th>Season</th>\n",
       "      <th>City</th>\n",
       "      <th>Sport</th>\n",
       "      <th>Event</th>\n",
       "      <th>Medal</th>\n",
       "    </tr>\n",
       "  </thead>\n",
       "  <tbody>\n",
       "    <tr>\n",
       "      <th>0</th>\n",
       "      <td>0</td>\n",
       "      <td>A Dijiang</td>\n",
       "      <td>M</td>\n",
       "      <td>China</td>\n",
       "      <td>CHN</td>\n",
       "      <td>1992</td>\n",
       "      <td>Summer</td>\n",
       "      <td>Barcelona</td>\n",
       "      <td>Basketball</td>\n",
       "      <td>Basketball Men's Basketball</td>\n",
       "      <td>No medal</td>\n",
       "    </tr>\n",
       "    <tr>\n",
       "      <th>1</th>\n",
       "      <td>1</td>\n",
       "      <td>A Lamusi</td>\n",
       "      <td>M</td>\n",
       "      <td>China</td>\n",
       "      <td>CHN</td>\n",
       "      <td>2012</td>\n",
       "      <td>Summer</td>\n",
       "      <td>London</td>\n",
       "      <td>Judo</td>\n",
       "      <td>Judo Men's Extra-Lightweight</td>\n",
       "      <td>No medal</td>\n",
       "    </tr>\n",
       "    <tr>\n",
       "      <th>2</th>\n",
       "      <td>2</td>\n",
       "      <td>Gunnar Aaby</td>\n",
       "      <td>M</td>\n",
       "      <td>Denmark</td>\n",
       "      <td>DEN</td>\n",
       "      <td>1920</td>\n",
       "      <td>Summer</td>\n",
       "      <td>Antwerpen</td>\n",
       "      <td>Football</td>\n",
       "      <td>Football Men's Football</td>\n",
       "      <td>No medal</td>\n",
       "    </tr>\n",
       "    <tr>\n",
       "      <th>3</th>\n",
       "      <td>3</td>\n",
       "      <td>Edgar Aabye</td>\n",
       "      <td>M</td>\n",
       "      <td>Denmark/Sweden</td>\n",
       "      <td>DEN</td>\n",
       "      <td>1900</td>\n",
       "      <td>Summer</td>\n",
       "      <td>Paris</td>\n",
       "      <td>Tug-Of-War</td>\n",
       "      <td>Tug-Of-War Men's Tug-Of-War</td>\n",
       "      <td>Gold</td>\n",
       "    </tr>\n",
       "    <tr>\n",
       "      <th>4</th>\n",
       "      <td>26</td>\n",
       "      <td>Cornelia (-strannood)</td>\n",
       "      <td>F</td>\n",
       "      <td>Netherlands</td>\n",
       "      <td>NED</td>\n",
       "      <td>1932</td>\n",
       "      <td>Summer</td>\n",
       "      <td>Los Angeles</td>\n",
       "      <td>Athletics</td>\n",
       "      <td>Athletics Women's 100 metres</td>\n",
       "      <td>No medal</td>\n",
       "    </tr>\n",
       "  </tbody>\n",
       "</table>\n",
       "</div>"
      ],
      "text/plain": [
       "   player_id                   Name Sex            Team  NOC  Year  Season  \\\n",
       "0          0              A Dijiang   M           China  CHN  1992  Summer   \n",
       "1          1               A Lamusi   M           China  CHN  2012  Summer   \n",
       "2          2            Gunnar Aaby   M         Denmark  DEN  1920  Summer   \n",
       "3          3            Edgar Aabye   M  Denmark/Sweden  DEN  1900  Summer   \n",
       "4         26  Cornelia (-strannood)   F     Netherlands  NED  1932  Summer   \n",
       "\n",
       "          City       Sport                         Event     Medal  \n",
       "0    Barcelona  Basketball   Basketball Men's Basketball  No medal  \n",
       "1       London        Judo  Judo Men's Extra-Lightweight  No medal  \n",
       "2    Antwerpen    Football       Football Men's Football  No medal  \n",
       "3        Paris  Tug-Of-War   Tug-Of-War Men's Tug-Of-War      Gold  \n",
       "4  Los Angeles   Athletics  Athletics Women's 100 metres  No medal  "
      ]
     },
     "execution_count": 3,
     "metadata": {},
     "output_type": "execute_result"
    }
   ],
   "source": [
    "df.head()"
   ]
  },
  {
   "cell_type": "code",
   "execution_count": 6,
   "id": "7b021de9-3038-479d-8aee-51dd6b3bba37",
   "metadata": {},
   "outputs": [
    {
     "name": "stdout",
     "output_type": "stream",
     "text": [
      "<class 'pandas.core.frame.DataFrame'>\n",
      "RangeIndex: 252565 entries, 0 to 252564\n",
      "Data columns (total 11 columns):\n",
      " #   Column     Non-Null Count   Dtype \n",
      "---  ------     --------------   ----- \n",
      " 0   player_id  252565 non-null  int64 \n",
      " 1   Name       252565 non-null  object\n",
      " 2   Sex        252565 non-null  object\n",
      " 3   Team       252565 non-null  object\n",
      " 4   NOC        252565 non-null  object\n",
      " 5   Year       252565 non-null  int64 \n",
      " 6   Season     252565 non-null  object\n",
      " 7   City       252565 non-null  object\n",
      " 8   Sport      252565 non-null  object\n",
      " 9   Event      252565 non-null  object\n",
      " 10  Medal      252565 non-null  object\n",
      "dtypes: int64(2), object(9)\n",
      "memory usage: 21.2+ MB\n"
     ]
    }
   ],
   "source": [
    "df.info()"
   ]
  },
  {
   "cell_type": "code",
   "execution_count": 8,
   "id": "d8291e0c-8b4b-4ea8-b9d9-c436ea6160c1",
   "metadata": {},
   "outputs": [
    {
     "data": {
      "text/html": [
       "<div>\n",
       "<style scoped>\n",
       "    .dataframe tbody tr th:only-of-type {\n",
       "        vertical-align: middle;\n",
       "    }\n",
       "\n",
       "    .dataframe tbody tr th {\n",
       "        vertical-align: top;\n",
       "    }\n",
       "\n",
       "    .dataframe thead th {\n",
       "        text-align: right;\n",
       "    }\n",
       "</style>\n",
       "<table border=\"1\" class=\"dataframe\">\n",
       "  <thead>\n",
       "    <tr style=\"text-align: right;\">\n",
       "      <th></th>\n",
       "      <th>player_id</th>\n",
       "      <th>Year</th>\n",
       "    </tr>\n",
       "  </thead>\n",
       "  <tbody>\n",
       "    <tr>\n",
       "      <th>count</th>\n",
       "      <td>2.525650e+05</td>\n",
       "      <td>252565.000000</td>\n",
       "    </tr>\n",
       "    <tr>\n",
       "      <th>mean</th>\n",
       "      <td>2.305499e+05</td>\n",
       "      <td>1981.743908</td>\n",
       "    </tr>\n",
       "    <tr>\n",
       "      <th>std</th>\n",
       "      <td>4.289330e+05</td>\n",
       "      <td>32.596548</td>\n",
       "    </tr>\n",
       "    <tr>\n",
       "      <th>min</th>\n",
       "      <td>0.000000e+00</td>\n",
       "      <td>1896.000000</td>\n",
       "    </tr>\n",
       "    <tr>\n",
       "      <th>25%</th>\n",
       "      <td>5.713700e+04</td>\n",
       "      <td>1960.000000</td>\n",
       "    </tr>\n",
       "    <tr>\n",
       "      <th>50%</th>\n",
       "      <td>1.356110e+05</td>\n",
       "      <td>1988.000000</td>\n",
       "    </tr>\n",
       "    <tr>\n",
       "      <th>75%</th>\n",
       "      <td>2.118590e+05</td>\n",
       "      <td>2008.000000</td>\n",
       "    </tr>\n",
       "    <tr>\n",
       "      <th>max</th>\n",
       "      <td>9.460001e+06</td>\n",
       "      <td>2024.000000</td>\n",
       "    </tr>\n",
       "  </tbody>\n",
       "</table>\n",
       "</div>"
      ],
      "text/plain": [
       "          player_id           Year\n",
       "count  2.525650e+05  252565.000000\n",
       "mean   2.305499e+05    1981.743908\n",
       "std    4.289330e+05      32.596548\n",
       "min    0.000000e+00    1896.000000\n",
       "25%    5.713700e+04    1960.000000\n",
       "50%    1.356110e+05    1988.000000\n",
       "75%    2.118590e+05    2008.000000\n",
       "max    9.460001e+06    2024.000000"
      ]
     },
     "execution_count": 8,
     "metadata": {},
     "output_type": "execute_result"
    }
   ],
   "source": [
    "df.describe()"
   ]
  },
  {
   "cell_type": "markdown",
   "id": "993aefcc-984a-458e-8e33-a1ba73f408f1",
   "metadata": {},
   "source": [
    "# 2. Data Cleaning and Preparation"
   ]
  },
  {
   "cell_type": "markdown",
   "id": "8cc95f25-547e-4ce7-98f1-d489a5e62030",
   "metadata": {},
   "source": [
    "#### Checking if there are NULL values"
   ]
  },
  {
   "cell_type": "code",
   "execution_count": 11,
   "id": "48f6531c-fb92-459b-af27-da8859174397",
   "metadata": {},
   "outputs": [
    {
     "data": {
      "text/plain": [
       "player_id    0\n",
       "Name         0\n",
       "Sex          0\n",
       "Team         0\n",
       "NOC          0\n",
       "Year         0\n",
       "Season       0\n",
       "City         0\n",
       "Sport        0\n",
       "Event        0\n",
       "Medal        0\n",
       "dtype: int64"
      ]
     },
     "execution_count": 11,
     "metadata": {},
     "output_type": "execute_result"
    }
   ],
   "source": [
    "df.isna().sum()"
   ]
  },
  {
   "cell_type": "markdown",
   "id": "42ab2b2b-22d7-4cfc-a660-d5eaec87f014",
   "metadata": {},
   "source": [
    "### making all the column names lowercase for better consistency"
   ]
  },
  {
   "cell_type": "code",
   "execution_count": 18,
   "id": "562b6ddc-c889-40ad-a8df-55aa0bbaf532",
   "metadata": {},
   "outputs": [],
   "source": [
    "mapper = {}\n",
    "for column in df.columns:\n",
    "    mapper[column] = column.lower()\n",
    "df.rename(mapper=mapper,axis=1,inplace=True)"
   ]
  },
  {
   "cell_type": "markdown",
   "id": "338a3368-cfa2-43eb-89e4-9b903f2f4198",
   "metadata": {},
   "source": [
    "# Data Aggregation and Summarization"
   ]
  },
  {
   "cell_type": "markdown",
   "id": "f277ad82-9772-4964-97a1-2a4ff7e48e3b",
   "metadata": {},
   "source": [
    "### The total number of medals won by each country"
   ]
  },
  {
   "cell_type": "code",
   "execution_count": 20,
   "id": "3b3eb693-69f1-467b-9620-2594d0cc69c5",
   "metadata": {},
   "outputs": [
    {
     "data": {
      "text/html": [
       "<div>\n",
       "<style scoped>\n",
       "    .dataframe tbody tr th:only-of-type {\n",
       "        vertical-align: middle;\n",
       "    }\n",
       "\n",
       "    .dataframe tbody tr th {\n",
       "        vertical-align: top;\n",
       "    }\n",
       "\n",
       "    .dataframe thead th {\n",
       "        text-align: right;\n",
       "    }\n",
       "</style>\n",
       "<table border=\"1\" class=\"dataframe\">\n",
       "  <thead>\n",
       "    <tr style=\"text-align: right;\">\n",
       "      <th></th>\n",
       "      <th>player_id</th>\n",
       "      <th>name</th>\n",
       "      <th>sex</th>\n",
       "      <th>team</th>\n",
       "      <th>noc</th>\n",
       "      <th>year</th>\n",
       "      <th>season</th>\n",
       "      <th>city</th>\n",
       "      <th>sport</th>\n",
       "      <th>event</th>\n",
       "      <th>medal</th>\n",
       "    </tr>\n",
       "  </thead>\n",
       "  <tbody>\n",
       "    <tr>\n",
       "      <th>0</th>\n",
       "      <td>0</td>\n",
       "      <td>A Dijiang</td>\n",
       "      <td>M</td>\n",
       "      <td>China</td>\n",
       "      <td>CHN</td>\n",
       "      <td>1992</td>\n",
       "      <td>Summer</td>\n",
       "      <td>Barcelona</td>\n",
       "      <td>Basketball</td>\n",
       "      <td>Basketball Men's Basketball</td>\n",
       "      <td>No medal</td>\n",
       "    </tr>\n",
       "    <tr>\n",
       "      <th>1</th>\n",
       "      <td>1</td>\n",
       "      <td>A Lamusi</td>\n",
       "      <td>M</td>\n",
       "      <td>China</td>\n",
       "      <td>CHN</td>\n",
       "      <td>2012</td>\n",
       "      <td>Summer</td>\n",
       "      <td>London</td>\n",
       "      <td>Judo</td>\n",
       "      <td>Judo Men's Extra-Lightweight</td>\n",
       "      <td>No medal</td>\n",
       "    </tr>\n",
       "    <tr>\n",
       "      <th>2</th>\n",
       "      <td>2</td>\n",
       "      <td>Gunnar Aaby</td>\n",
       "      <td>M</td>\n",
       "      <td>Denmark</td>\n",
       "      <td>DEN</td>\n",
       "      <td>1920</td>\n",
       "      <td>Summer</td>\n",
       "      <td>Antwerpen</td>\n",
       "      <td>Football</td>\n",
       "      <td>Football Men's Football</td>\n",
       "      <td>No medal</td>\n",
       "    </tr>\n",
       "    <tr>\n",
       "      <th>3</th>\n",
       "      <td>3</td>\n",
       "      <td>Edgar Aabye</td>\n",
       "      <td>M</td>\n",
       "      <td>Denmark/Sweden</td>\n",
       "      <td>DEN</td>\n",
       "      <td>1900</td>\n",
       "      <td>Summer</td>\n",
       "      <td>Paris</td>\n",
       "      <td>Tug-Of-War</td>\n",
       "      <td>Tug-Of-War Men's Tug-Of-War</td>\n",
       "      <td>Gold</td>\n",
       "    </tr>\n",
       "    <tr>\n",
       "      <th>4</th>\n",
       "      <td>26</td>\n",
       "      <td>Cornelia (-strannood)</td>\n",
       "      <td>F</td>\n",
       "      <td>Netherlands</td>\n",
       "      <td>NED</td>\n",
       "      <td>1932</td>\n",
       "      <td>Summer</td>\n",
       "      <td>Los Angeles</td>\n",
       "      <td>Athletics</td>\n",
       "      <td>Athletics Women's 100 metres</td>\n",
       "      <td>No medal</td>\n",
       "    </tr>\n",
       "  </tbody>\n",
       "</table>\n",
       "</div>"
      ],
      "text/plain": [
       "   player_id                   name sex            team  noc  year  season  \\\n",
       "0          0              A Dijiang   M           China  CHN  1992  Summer   \n",
       "1          1               A Lamusi   M           China  CHN  2012  Summer   \n",
       "2          2            Gunnar Aaby   M         Denmark  DEN  1920  Summer   \n",
       "3          3            Edgar Aabye   M  Denmark/Sweden  DEN  1900  Summer   \n",
       "4         26  Cornelia (-strannood)   F     Netherlands  NED  1932  Summer   \n",
       "\n",
       "          city       sport                         event     medal  \n",
       "0    Barcelona  Basketball   Basketball Men's Basketball  No medal  \n",
       "1       London        Judo  Judo Men's Extra-Lightweight  No medal  \n",
       "2    Antwerpen    Football       Football Men's Football  No medal  \n",
       "3        Paris  Tug-Of-War   Tug-Of-War Men's Tug-Of-War      Gold  \n",
       "4  Los Angeles   Athletics  Athletics Women's 100 metres  No medal  "
      ]
     },
     "execution_count": 20,
     "metadata": {},
     "output_type": "execute_result"
    }
   ],
   "source": [
    "df.head()"
   ]
  },
  {
   "cell_type": "code",
   "execution_count": 22,
   "id": "8fe055a0-44ab-4935-99e4-608671fe3d5d",
   "metadata": {},
   "outputs": [],
   "source": [
    "df['medalwon'] = np.where(df['medal']!='No medal',1,0)"
   ]
  },
  {
   "cell_type": "code",
   "execution_count": 28,
   "id": "506cd793-f181-4295-9c1b-44928fa18965",
   "metadata": {},
   "outputs": [],
   "source": [
    "medals_won_by_country = df.groupby('noc')['medalwon'].sum().reset_index().sort_values(by='medalwon',ascending=False)"
   ]
  },
  {
   "cell_type": "code",
   "execution_count": 29,
   "id": "6121ed70-14b6-47e6-ae2d-5af898d58be9",
   "metadata": {},
   "outputs": [
    {
     "data": {
      "text/html": [
       "<div>\n",
       "<style scoped>\n",
       "    .dataframe tbody tr th:only-of-type {\n",
       "        vertical-align: middle;\n",
       "    }\n",
       "\n",
       "    .dataframe tbody tr th {\n",
       "        vertical-align: top;\n",
       "    }\n",
       "\n",
       "    .dataframe thead th {\n",
       "        text-align: right;\n",
       "    }\n",
       "</style>\n",
       "<table border=\"1\" class=\"dataframe\">\n",
       "  <thead>\n",
       "    <tr style=\"text-align: right;\">\n",
       "      <th></th>\n",
       "      <th>noc</th>\n",
       "      <th>medalwon</th>\n",
       "    </tr>\n",
       "  </thead>\n",
       "  <tbody>\n",
       "    <tr>\n",
       "      <th>220</th>\n",
       "      <td>USA</td>\n",
       "      <td>5621</td>\n",
       "    </tr>\n",
       "    <tr>\n",
       "      <th>76</th>\n",
       "      <td>GBR</td>\n",
       "      <td>2282</td>\n",
       "    </tr>\n",
       "    <tr>\n",
       "      <th>218</th>\n",
       "      <td>URS</td>\n",
       "      <td>2063</td>\n",
       "    </tr>\n",
       "    <tr>\n",
       "      <th>81</th>\n",
       "      <td>GER</td>\n",
       "      <td>1968</td>\n",
       "    </tr>\n",
       "    <tr>\n",
       "      <th>71</th>\n",
       "      <td>FRA</td>\n",
       "      <td>1955</td>\n",
       "    </tr>\n",
       "  </tbody>\n",
       "</table>\n",
       "</div>"
      ],
      "text/plain": [
       "     noc  medalwon\n",
       "220  USA      5621\n",
       "76   GBR      2282\n",
       "218  URS      2063\n",
       "81   GER      1968\n",
       "71   FRA      1955"
      ]
     },
     "execution_count": 29,
     "metadata": {},
     "output_type": "execute_result"
    }
   ],
   "source": [
    "medals_won_by_country.head()"
   ]
  },
  {
   "cell_type": "code",
   "execution_count": 32,
   "id": "58c1ae27-c731-45bf-87c0-71207883ce5b",
   "metadata": {},
   "outputs": [
    {
     "data": {
      "text/plain": [
       "<Axes: xlabel='noc', ylabel='medalwon'>"
      ]
     },
     "execution_count": 32,
     "metadata": {},
     "output_type": "execute_result"
    },
    {
     "data": {
      "image/png": "[encoded data removed]",
      "text/plain": [
       "<Figure size 640x480 with 1 Axes>"
      ]
     },
     "metadata": {},
     "output_type": "display_data"
    }
   ],
   "source": [
    "fig = plt.figure()\n",
    "sns.barplot(data= medals_won_by_country.head(10),x='noc',y='medalwon')"
   ]
  },
  {
   "cell_type": "markdown",
   "id": "61eecdcf-4439-44a3-ae17-f83d9fca815c",
   "metadata": {
    "jp-MarkdownHeadingCollapsed": true
   },
   "source": [
    "### average number of medals won per year for each sport"
   ]
  },
  {
   "cell_type": "code",
   "execution_count": 39,
   "id": "740c6a70-2fe0-4d6a-8f37-0a5eedacbb7b",
   "metadata": {},
   "outputs": [
    {
     "data": {
      "text/html": [
       "<div>\n",
       "<style scoped>\n",
       "    .dataframe tbody tr th:only-of-type {\n",
       "        vertical-align: middle;\n",
       "    }\n",
       "\n",
       "    .dataframe tbody tr th {\n",
       "        vertical-align: top;\n",
       "    }\n",
       "\n",
       "    .dataframe thead th {\n",
       "        text-align: right;\n",
       "    }\n",
       "</style>\n",
       "<table border=\"1\" class=\"dataframe\">\n",
       "  <thead>\n",
       "    <tr style=\"text-align: right;\">\n",
       "      <th></th>\n",
       "      <th>sport</th>\n",
       "      <th>year</th>\n",
       "      <th>medalwon</th>\n",
       "    </tr>\n",
       "  </thead>\n",
       "  <tbody>\n",
       "    <tr>\n",
       "      <th>0</th>\n",
       "      <td>3x3 Basketball</td>\n",
       "      <td>2020</td>\n",
       "      <td>24</td>\n",
       "    </tr>\n",
       "    <tr>\n",
       "      <th>1</th>\n",
       "      <td>3x3 Basketball</td>\n",
       "      <td>2024</td>\n",
       "      <td>24</td>\n",
       "    </tr>\n",
       "    <tr>\n",
       "      <th>2</th>\n",
       "      <td>3x3 Basketball, Basketball</td>\n",
       "      <td>2024</td>\n",
       "      <td>0</td>\n",
       "    </tr>\n",
       "    <tr>\n",
       "      <th>3</th>\n",
       "      <td>Aeronautics</td>\n",
       "      <td>1936</td>\n",
       "      <td>1</td>\n",
       "    </tr>\n",
       "    <tr>\n",
       "      <th>4</th>\n",
       "      <td>Alpinism</td>\n",
       "      <td>1932</td>\n",
       "      <td>2</td>\n",
       "    </tr>\n",
       "    <tr>\n",
       "      <th>...</th>\n",
       "      <td>...</td>\n",
       "      <td>...</td>\n",
       "      <td>...</td>\n",
       "    </tr>\n",
       "    <tr>\n",
       "      <th>763</th>\n",
       "      <td>Wrestling</td>\n",
       "      <td>2008</td>\n",
       "      <td>71</td>\n",
       "    </tr>\n",
       "    <tr>\n",
       "      <th>764</th>\n",
       "      <td>Wrestling</td>\n",
       "      <td>2012</td>\n",
       "      <td>72</td>\n",
       "    </tr>\n",
       "    <tr>\n",
       "      <th>765</th>\n",
       "      <td>Wrestling</td>\n",
       "      <td>2016</td>\n",
       "      <td>72</td>\n",
       "    </tr>\n",
       "    <tr>\n",
       "      <th>766</th>\n",
       "      <td>Wrestling</td>\n",
       "      <td>2020</td>\n",
       "      <td>72</td>\n",
       "    </tr>\n",
       "    <tr>\n",
       "      <th>767</th>\n",
       "      <td>Wrestling</td>\n",
       "      <td>2024</td>\n",
       "      <td>72</td>\n",
       "    </tr>\n",
       "  </tbody>\n",
       "</table>\n",
       "<p>768 rows × 3 columns</p>\n",
       "</div>"
      ],
      "text/plain": [
       "                          sport  year  medalwon\n",
       "0                3x3 Basketball  2020        24\n",
       "1                3x3 Basketball  2024        24\n",
       "2    3x3 Basketball, Basketball  2024         0\n",
       "3                   Aeronautics  1936         1\n",
       "4                      Alpinism  1932         2\n",
       "..                          ...   ...       ...\n",
       "763                   Wrestling  2008        71\n",
       "764                   Wrestling  2012        72\n",
       "765                   Wrestling  2016        72\n",
       "766                   Wrestling  2020        72\n",
       "767                   Wrestling  2024        72\n",
       "\n",
       "[768 rows x 3 columns]"
      ]
     },
     "execution_count": 39,
     "metadata": {},
     "output_type": "execute_result"
    }
   ],
   "source": [
    "df.groupby(['sport','year'])['medalwon'].sum().reset_index()"
   ]
  },
  {
   "cell_type": "code",
   "execution_count": 48,
   "id": "7b1cfb1a-1c32-4d15-9c1c-8618be578987",
   "metadata": {},
   "outputs": [],
   "source": [
    "average_number_of_medals = df.groupby(['sport', 'year']).size().reset_index(name='Medal_Count')"
   ]
  },
  {
   "cell_type": "code",
   "execution_count": 50,
   "id": "50e9119d-fc16-4f5c-b5f4-32b176ad4add",
   "metadata": {},
   "outputs": [],
   "source": [
    "average_number_of_medals = average_number_of_medals.groupby('sport')['Medal_Count'].mean().round(2).reset_index()"
   ]
  },
  {
   "cell_type": "code",
   "execution_count": 51,
   "id": "9b115b5e-1d94-4e09-be88-08a268472775",
   "metadata": {},
   "outputs": [
    {
     "data": {
      "text/html": [
       "<div>\n",
       "<style scoped>\n",
       "    .dataframe tbody tr th:only-of-type {\n",
       "        vertical-align: middle;\n",
       "    }\n",
       "\n",
       "    .dataframe tbody tr th {\n",
       "        vertical-align: top;\n",
       "    }\n",
       "\n",
       "    .dataframe thead th {\n",
       "        text-align: right;\n",
       "    }\n",
       "</style>\n",
       "<table border=\"1\" class=\"dataframe\">\n",
       "  <thead>\n",
       "    <tr style=\"text-align: right;\">\n",
       "      <th></th>\n",
       "      <th>sport</th>\n",
       "      <th>Medal_Count</th>\n",
       "    </tr>\n",
       "  </thead>\n",
       "  <tbody>\n",
       "    <tr>\n",
       "      <th>0</th>\n",
       "      <td>3x3 Basketball</td>\n",
       "      <td>64.00</td>\n",
       "    </tr>\n",
       "    <tr>\n",
       "      <th>1</th>\n",
       "      <td>3x3 Basketball, Basketball</td>\n",
       "      <td>1.00</td>\n",
       "    </tr>\n",
       "    <tr>\n",
       "      <th>2</th>\n",
       "      <td>Aeronautics</td>\n",
       "      <td>1.00</td>\n",
       "    </tr>\n",
       "    <tr>\n",
       "      <th>3</th>\n",
       "      <td>Alpinism</td>\n",
       "      <td>2.00</td>\n",
       "    </tr>\n",
       "    <tr>\n",
       "      <th>4</th>\n",
       "      <td>Archery</td>\n",
       "      <td>158.11</td>\n",
       "    </tr>\n",
       "    <tr>\n",
       "      <th>...</th>\n",
       "      <td>...</td>\n",
       "      <td>...</td>\n",
       "    </tr>\n",
       "    <tr>\n",
       "      <th>71</th>\n",
       "      <td>Tug-Of-War</td>\n",
       "      <td>28.33</td>\n",
       "    </tr>\n",
       "    <tr>\n",
       "      <th>72</th>\n",
       "      <td>Volleyball</td>\n",
       "      <td>250.19</td>\n",
       "    </tr>\n",
       "    <tr>\n",
       "      <th>73</th>\n",
       "      <td>Water Polo</td>\n",
       "      <td>152.34</td>\n",
       "    </tr>\n",
       "    <tr>\n",
       "      <th>74</th>\n",
       "      <td>Weightlifting</td>\n",
       "      <td>152.00</td>\n",
       "    </tr>\n",
       "    <tr>\n",
       "      <th>75</th>\n",
       "      <td>Wrestling</td>\n",
       "      <td>257.80</td>\n",
       "    </tr>\n",
       "  </tbody>\n",
       "</table>\n",
       "<p>76 rows × 2 columns</p>\n",
       "</div>"
      ],
      "text/plain": [
       "                         sport  Medal_Count\n",
       "0               3x3 Basketball        64.00\n",
       "1   3x3 Basketball, Basketball         1.00\n",
       "2                  Aeronautics         1.00\n",
       "3                     Alpinism         2.00\n",
       "4                      Archery       158.11\n",
       "..                         ...          ...\n",
       "71                  Tug-Of-War        28.33\n",
       "72                  Volleyball       250.19\n",
       "73                  Water Polo       152.34\n",
       "74               Weightlifting       152.00\n",
       "75                   Wrestling       257.80\n",
       "\n",
       "[76 rows x 2 columns]"
      ]
     },
     "execution_count": 51,
     "metadata": {},
     "output_type": "execute_result"
    }
   ],
   "source": [
    "average_number_of_medals"
   ]
  },
  {
   "cell_type": "markdown",
   "id": "97393ea8-52ea-4898-b989-a82921a4df33",
   "metadata": {},
   "source": [
    "### percentage of gold,silver,or bronze medals won by country"
   ]
  },
  {
   "cell_type": "code",
   "execution_count": 53,
   "id": "a6b16551-77c5-47a2-bb7d-7c3d142b8aed",
   "metadata": {},
   "outputs": [],
   "source": [
    "df['goldmedal'] = np.where(df['medal']=='Gold',1,0)\n",
    "df['silvermedal'] = np.where(df['medal']=='Silver',1,0)\n",
    "df['bronzemedal'] = np.where(df['medal']=='Bronze',1,0)"
   ]
  },
  {
   "cell_type": "code",
   "execution_count": 73,
   "id": "11163309-8979-484f-a33c-d70cd818ed9a",
   "metadata": {},
   "outputs": [],
   "source": [
    "def find_percentage(medal):\n",
    "    return df.groupby('noc').apply(lambda x : x[f'{medal}medal'].sum() / x['medalwon'].sum(),include_groups=False).sort_values(ascending=False).reset_index(name=f'{medal}_won').dropna()"
   ]
  },
  {
   "cell_type": "code",
   "execution_count": 74,
   "id": "43c02de0-3368-479f-8f7a-8cc6342fc679",
   "metadata": {},
   "outputs": [
    {
     "name": "stderr",
     "output_type": "stream",
     "text": [
      "/var/folders/7z/ybvl4jx52sb5dmm0p2j2lf5h0000gn/T/ipykernel_16003/1859252537.py:2: RuntimeWarning: invalid value encountered in scalar divide\n",
      "  return df.groupby('noc').apply(lambda x : x[f'{medal}medal'].sum() / x['medalwon'].sum(),include_groups=False).sort_values(ascending=False).reset_index(name=f'{medal}_won').dropna()\n"
     ]
    },
    {
     "data": {
      "text/html": [
       "<div>\n",
       "<style scoped>\n",
       "    .dataframe tbody tr th:only-of-type {\n",
       "        vertical-align: middle;\n",
       "    }\n",
       "\n",
       "    .dataframe tbody tr th {\n",
       "        vertical-align: top;\n",
       "    }\n",
       "\n",
       "    .dataframe thead th {\n",
       "        text-align: right;\n",
       "    }\n",
       "</style>\n",
       "<table border=\"1\" class=\"dataframe\">\n",
       "  <thead>\n",
       "    <tr style=\"text-align: right;\">\n",
       "      <th></th>\n",
       "      <th>noc</th>\n",
       "      <th>gold_won</th>\n",
       "    </tr>\n",
       "  </thead>\n",
       "  <tbody>\n",
       "    <tr>\n",
       "      <th>0</th>\n",
       "      <td>DMA</td>\n",
       "      <td>1.000000</td>\n",
       "    </tr>\n",
       "    <tr>\n",
       "      <th>1</th>\n",
       "      <td>CMR</td>\n",
       "      <td>0.909091</td>\n",
       "    </tr>\n",
       "    <tr>\n",
       "      <th>2</th>\n",
       "      <td>ZIM</td>\n",
       "      <td>0.772727</td>\n",
       "    </tr>\n",
       "    <tr>\n",
       "      <th>3</th>\n",
       "      <td>ANZ</td>\n",
       "      <td>0.689655</td>\n",
       "    </tr>\n",
       "    <tr>\n",
       "      <th>4</th>\n",
       "      <td>LUX</td>\n",
       "      <td>0.666667</td>\n",
       "    </tr>\n",
       "    <tr>\n",
       "      <th>...</th>\n",
       "      <td>...</td>\n",
       "      <td>...</td>\n",
       "    </tr>\n",
       "    <tr>\n",
       "      <th>152</th>\n",
       "      <td>LIB</td>\n",
       "      <td>0.000000</td>\n",
       "    </tr>\n",
       "    <tr>\n",
       "      <th>153</th>\n",
       "      <td>BUR</td>\n",
       "      <td>0.000000</td>\n",
       "    </tr>\n",
       "    <tr>\n",
       "      <th>154</th>\n",
       "      <td>TAN</td>\n",
       "      <td>0.000000</td>\n",
       "    </tr>\n",
       "    <tr>\n",
       "      <th>155</th>\n",
       "      <td>KUW</td>\n",
       "      <td>0.000000</td>\n",
       "    </tr>\n",
       "    <tr>\n",
       "      <th>156</th>\n",
       "      <td>AFG</td>\n",
       "      <td>0.000000</td>\n",
       "    </tr>\n",
       "  </tbody>\n",
       "</table>\n",
       "<p>157 rows × 2 columns</p>\n",
       "</div>"
      ],
      "text/plain": [
       "     noc  gold_won\n",
       "0    DMA  1.000000\n",
       "1    CMR  0.909091\n",
       "2    ZIM  0.772727\n",
       "3    ANZ  0.689655\n",
       "4    LUX  0.666667\n",
       "..   ...       ...\n",
       "152  LIB  0.000000\n",
       "153  BUR  0.000000\n",
       "154  TAN  0.000000\n",
       "155  KUW  0.000000\n",
       "156  AFG  0.000000\n",
       "\n",
       "[157 rows x 2 columns]"
      ]
     },
     "execution_count": 74,
     "metadata": {},
     "output_type": "execute_result"
    }
   ],
   "source": [
    "find_percentage('gold')"
   ]
  },
  {
   "cell_type": "code",
   "execution_count": 75,
   "id": "a4afa295-8b11-4fb0-b045-804563c475b0",
   "metadata": {},
   "outputs": [
    {
     "name": "stderr",
     "output_type": "stream",
     "text": [
      "/var/folders/7z/ybvl4jx52sb5dmm0p2j2lf5h0000gn/T/ipykernel_16003/1859252537.py:2: RuntimeWarning: invalid value encountered in scalar divide\n",
      "  return df.groupby('noc').apply(lambda x : x[f'{medal}medal'].sum() / x['medalwon'].sum(),include_groups=False).sort_values(ascending=False).reset_index(name=f'{medal}_won').dropna()\n"
     ]
    },
    {
     "data": {
      "text/html": [
       "<div>\n",
       "<style scoped>\n",
       "    .dataframe tbody tr th:only-of-type {\n",
       "        vertical-align: middle;\n",
       "    }\n",
       "\n",
       "    .dataframe tbody tr th {\n",
       "        vertical-align: top;\n",
       "    }\n",
       "\n",
       "    .dataframe thead th {\n",
       "        text-align: right;\n",
       "    }\n",
       "</style>\n",
       "<table border=\"1\" class=\"dataframe\">\n",
       "  <thead>\n",
       "    <tr style=\"text-align: right;\">\n",
       "      <th></th>\n",
       "      <th>noc</th>\n",
       "      <th>silver_won</th>\n",
       "    </tr>\n",
       "  </thead>\n",
       "  <tbody>\n",
       "    <tr>\n",
       "      <th>0</th>\n",
       "      <td>GAB</td>\n",
       "      <td>1.0</td>\n",
       "    </tr>\n",
       "    <tr>\n",
       "      <th>1</th>\n",
       "      <td>MNE</td>\n",
       "      <td>1.0</td>\n",
       "    </tr>\n",
       "    <tr>\n",
       "      <th>2</th>\n",
       "      <td>AHO</td>\n",
       "      <td>1.0</td>\n",
       "    </tr>\n",
       "    <tr>\n",
       "      <th>3</th>\n",
       "      <td>ISV</td>\n",
       "      <td>1.0</td>\n",
       "    </tr>\n",
       "    <tr>\n",
       "      <th>4</th>\n",
       "      <td>SEN</td>\n",
       "      <td>1.0</td>\n",
       "    </tr>\n",
       "    <tr>\n",
       "      <th>...</th>\n",
       "      <td>...</td>\n",
       "      <td>...</td>\n",
       "    </tr>\n",
       "    <tr>\n",
       "      <th>152</th>\n",
       "      <td>MON</td>\n",
       "      <td>0.0</td>\n",
       "    </tr>\n",
       "    <tr>\n",
       "      <th>153</th>\n",
       "      <td>SUR</td>\n",
       "      <td>0.0</td>\n",
       "    </tr>\n",
       "    <tr>\n",
       "      <th>154</th>\n",
       "      <td>MOZ</td>\n",
       "      <td>0.0</td>\n",
       "    </tr>\n",
       "    <tr>\n",
       "      <th>155</th>\n",
       "      <td>MRI</td>\n",
       "      <td>0.0</td>\n",
       "    </tr>\n",
       "    <tr>\n",
       "      <th>156</th>\n",
       "      <td>AFG</td>\n",
       "      <td>0.0</td>\n",
       "    </tr>\n",
       "  </tbody>\n",
       "</table>\n",
       "<p>157 rows × 2 columns</p>\n",
       "</div>"
      ],
      "text/plain": [
       "     noc  silver_won\n",
       "0    GAB         1.0\n",
       "1    MNE         1.0\n",
       "2    AHO         1.0\n",
       "3    ISV         1.0\n",
       "4    SEN         1.0\n",
       "..   ...         ...\n",
       "152  MON         0.0\n",
       "153  SUR         0.0\n",
       "154  MOZ         0.0\n",
       "155  MRI         0.0\n",
       "156  AFG         0.0\n",
       "\n",
       "[157 rows x 2 columns]"
      ]
     },
     "execution_count": 75,
     "metadata": {},
     "output_type": "execute_result"
    }
   ],
   "source": [
    "find_percentage('silver')"
   ]
  },
  {
   "cell_type": "code",
   "execution_count": 76,
   "id": "5266c144-e98a-46f2-a19b-1e4c46177a7d",
   "metadata": {},
   "outputs": [
    {
     "name": "stderr",
     "output_type": "stream",
     "text": [
      "/var/folders/7z/ybvl4jx52sb5dmm0p2j2lf5h0000gn/T/ipykernel_16003/1859252537.py:2: RuntimeWarning: invalid value encountered in scalar divide\n",
      "  return df.groupby('noc').apply(lambda x : x[f'{medal}medal'].sum() / x['medalwon'].sum(),include_groups=False).sort_values(ascending=False).reset_index(name=f'{medal}_won').dropna()\n"
     ]
    },
    {
     "data": {
      "text/html": [
       "<div>\n",
       "<style scoped>\n",
       "    .dataframe tbody tr th:only-of-type {\n",
       "        vertical-align: middle;\n",
       "    }\n",
       "\n",
       "    .dataframe tbody tr th {\n",
       "        vertical-align: top;\n",
       "    }\n",
       "\n",
       "    .dataframe thead th {\n",
       "        text-align: right;\n",
       "    }\n",
       "</style>\n",
       "<table border=\"1\" class=\"dataframe\">\n",
       "  <thead>\n",
       "    <tr style=\"text-align: right;\">\n",
       "      <th></th>\n",
       "      <th>noc</th>\n",
       "      <th>bronze_won</th>\n",
       "    </tr>\n",
       "  </thead>\n",
       "  <tbody>\n",
       "    <tr>\n",
       "      <th>0</th>\n",
       "      <td>AFG</td>\n",
       "      <td>1.0</td>\n",
       "    </tr>\n",
       "    <tr>\n",
       "      <th>1</th>\n",
       "      <td>KUW</td>\n",
       "      <td>1.0</td>\n",
       "    </tr>\n",
       "    <tr>\n",
       "      <th>2</th>\n",
       "      <td>BUR</td>\n",
       "      <td>1.0</td>\n",
       "    </tr>\n",
       "    <tr>\n",
       "      <th>3</th>\n",
       "      <td>EOR</td>\n",
       "      <td>1.0</td>\n",
       "    </tr>\n",
       "    <tr>\n",
       "      <th>4</th>\n",
       "      <td>ERI</td>\n",
       "      <td>1.0</td>\n",
       "    </tr>\n",
       "    <tr>\n",
       "      <th>...</th>\n",
       "      <td>...</td>\n",
       "      <td>...</td>\n",
       "    </tr>\n",
       "    <tr>\n",
       "      <th>152</th>\n",
       "      <td>AHO</td>\n",
       "      <td>0.0</td>\n",
       "    </tr>\n",
       "    <tr>\n",
       "      <th>153</th>\n",
       "      <td>GAB</td>\n",
       "      <td>0.0</td>\n",
       "    </tr>\n",
       "    <tr>\n",
       "      <th>154</th>\n",
       "      <td>TKM</td>\n",
       "      <td>0.0</td>\n",
       "    </tr>\n",
       "    <tr>\n",
       "      <th>155</th>\n",
       "      <td>TGA</td>\n",
       "      <td>0.0</td>\n",
       "    </tr>\n",
       "    <tr>\n",
       "      <th>156</th>\n",
       "      <td>SUD</td>\n",
       "      <td>0.0</td>\n",
       "    </tr>\n",
       "  </tbody>\n",
       "</table>\n",
       "<p>157 rows × 2 columns</p>\n",
       "</div>"
      ],
      "text/plain": [
       "     noc  bronze_won\n",
       "0    AFG         1.0\n",
       "1    KUW         1.0\n",
       "2    BUR         1.0\n",
       "3    EOR         1.0\n",
       "4    ERI         1.0\n",
       "..   ...         ...\n",
       "152  AHO         0.0\n",
       "153  GAB         0.0\n",
       "154  TKM         0.0\n",
       "155  TGA         0.0\n",
       "156  SUD         0.0\n",
       "\n",
       "[157 rows x 2 columns]"
      ]
     },
     "execution_count": 76,
     "metadata": {},
     "output_type": "execute_result"
    }
   ],
   "source": [
    "find_percentage('bronze')"
   ]
  },
  {
   "cell_type": "markdown",
   "id": "7260e6d0-013d-4854-8442-c9b053febc46",
   "metadata": {},
   "source": [
    "### Top ten athletes based on the ammount of medals won"
   ]
  },
  {
   "cell_type": "code",
   "execution_count": 78,
   "id": "6fb5d53a-a171-496a-adae-4c2985469010",
   "metadata": {},
   "outputs": [
    {
     "data": {
      "text/html": [
       "<div>\n",
       "<style scoped>\n",
       "    .dataframe tbody tr th:only-of-type {\n",
       "        vertical-align: middle;\n",
       "    }\n",
       "\n",
       "    .dataframe tbody tr th {\n",
       "        vertical-align: top;\n",
       "    }\n",
       "\n",
       "    .dataframe thead th {\n",
       "        text-align: right;\n",
       "    }\n",
       "</style>\n",
       "<table border=\"1\" class=\"dataframe\">\n",
       "  <thead>\n",
       "    <tr style=\"text-align: right;\">\n",
       "      <th></th>\n",
       "      <th>name</th>\n",
       "      <th>medalwon</th>\n",
       "    </tr>\n",
       "  </thead>\n",
       "  <tbody>\n",
       "    <tr>\n",
       "      <th>0</th>\n",
       "      <td>Michael Ii</td>\n",
       "      <td>28</td>\n",
       "    </tr>\n",
       "    <tr>\n",
       "      <th>1</th>\n",
       "      <td>Larysa (diriy-)</td>\n",
       "      <td>18</td>\n",
       "    </tr>\n",
       "    <tr>\n",
       "      <th>2</th>\n",
       "      <td>Charles Jr.</td>\n",
       "      <td>16</td>\n",
       "    </tr>\n",
       "    <tr>\n",
       "      <th>3</th>\n",
       "      <td>Nikolay Andrianov</td>\n",
       "      <td>15</td>\n",
       "    </tr>\n",
       "    <tr>\n",
       "      <th>4</th>\n",
       "      <td>Takashi Ono</td>\n",
       "      <td>13</td>\n",
       "    </tr>\n",
       "    <tr>\n",
       "      <th>5</th>\n",
       "      <td>Gustaf Carlberg</td>\n",
       "      <td>13</td>\n",
       "    </tr>\n",
       "    <tr>\n",
       "      <th>6</th>\n",
       "      <td>Edoardo Mangiarotti</td>\n",
       "      <td>13</td>\n",
       "    </tr>\n",
       "    <tr>\n",
       "      <th>7</th>\n",
       "      <td>Borys Shakhlin</td>\n",
       "      <td>13</td>\n",
       "    </tr>\n",
       "    <tr>\n",
       "      <th>8</th>\n",
       "      <td>John Jr.</td>\n",
       "      <td>13</td>\n",
       "    </tr>\n",
       "    <tr>\n",
       "      <th>9</th>\n",
       "      <td>Aleksey Nemov</td>\n",
       "      <td>12</td>\n",
       "    </tr>\n",
       "  </tbody>\n",
       "</table>\n",
       "</div>"
      ],
      "text/plain": [
       "                  name  medalwon\n",
       "0           Michael Ii        28\n",
       "1      Larysa (diriy-)        18\n",
       "2          Charles Jr.        16\n",
       "3    Nikolay Andrianov        15\n",
       "4          Takashi Ono        13\n",
       "5      Gustaf Carlberg        13\n",
       "6  Edoardo Mangiarotti        13\n",
       "7       Borys Shakhlin        13\n",
       "8             John Jr.        13\n",
       "9        Aleksey Nemov        12"
      ]
     },
     "execution_count": 78,
     "metadata": {},
     "output_type": "execute_result"
    }
   ],
   "source": [
    "df.groupby('name')['medalwon'].sum().sort_values(ascending=False).reset_index().head(10)"
   ]
  },
  {
   "cell_type": "markdown",
   "id": "2f013427-5b13-4075-ab6e-e5dd38ff794c",
   "metadata": {},
   "source": [
    "### Gender distribution between male and female"
   ]
  },
  {
   "cell_type": "code",
   "execution_count": 92,
   "id": "0b90c62c-bb6e-4cc3-86de-6acfd8cd5fba",
   "metadata": {},
   "outputs": [
    {
     "data": {
      "image/png": "[encoded data removed]",
      "text/plain": [
       "<Figure size 640x480 with 1 Axes>"
      ]
     },
     "metadata": {},
     "output_type": "display_data"
    }
   ],
   "source": [
    "plt.pie(x=[len(df[df['sex']=='M']),len(df[df['sex']=='F'])],labels=['Male','Female'],autopct='%1.1f%%')\n",
    "plt.legend()\n",
    "plt.title('Gender distribution')\n",
    "plt.show()"
   ]
  },
  {
   "cell_type": "markdown",
   "id": "1e03c77a-3e86-4121-b922-09217c42422c",
   "metadata": {},
   "source": [
    "### Number of the unique sports held each year"
   ]
  },
  {
   "cell_type": "code",
   "execution_count": 97,
   "id": "c0249399-c2bf-4a3f-b0e7-289b6c2b8d06",
   "metadata": {},
   "outputs": [],
   "source": [
    "unique_sport = df.groupby('year')['sport'].nunique()"
   ]
  },
  {
   "cell_type": "code",
   "execution_count": 98,
   "id": "9a39c134-58be-47d3-b1e9-11e1197a8155",
   "metadata": {},
   "outputs": [
    {
     "data": {
      "text/plain": [
       "<Axes: xlabel='year', ylabel='sport'>"
      ]
     },
     "execution_count": 98,
     "metadata": {},
     "output_type": "execute_result"
    },
    {
     "data": {
      "image/png": "[encoded data removed]",
      "text/plain": [
       "<Figure size 640x480 with 1 Axes>"
      ]
     },
     "metadata": {},
     "output_type": "display_data"
    }
   ],
   "source": [
    "sns.lineplot(data=unique_sport)"
   ]
  },
  {
   "cell_type": "code",
   "execution_count": null,
   "id": "d6b49753-37a8-4d34-8d06-c8247d3c5869",
   "metadata": {},
   "outputs": [],
   "source": []
  }
 ],
 "metadata": {
  "kernelspec": {
   "display_name": "Python 3 (ipykernel)",
   "language": "python",
   "name": "python3"
  },
  "language_info": {
   "codemirror_mode": {
    "name": "ipython",
    "version": 3
   },
   "file_extension": ".py",
   "mimetype": "text/x-python",
   "name": "python",
   "nbconvert_exporter": "python",
   "pygments_lexer": "ipython3",
   "version": "3.12.4"
  }
 },
 "nbformat": 4,
 "nbformat_minor": 5
}
